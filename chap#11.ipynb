{
 "cells": [
  {
   "cell_type": "markdown",
   "id": "ed7a227b",
   "metadata": {},
   "source": [
    "## ChapterNo.11"
   ]
  },
  {
   "cell_type": "markdown",
   "id": "f4db3091",
   "metadata": {},
   "source": [
    "## Example1"
   ]
  },
  {
   "cell_type": "code",
   "execution_count": 8,
   "id": "dc711f4b",
   "metadata": {},
   "outputs": [
    {
     "name": "stdout",
     "output_type": "stream",
     "text": [
      "red\n",
      "sweet\n",
      "RED\n",
      "blue\n"
     ]
    }
   ],
   "source": [
    "class Apple:\n",
    "    pass\n",
    "class Apple:\n",
    "    color=''\n",
    "    flavor=''\n",
    "jonagold=Apple()\n",
    "jonagold.color='red'\n",
    "jonagold.flavor='sweet'\n",
    "print(jonagold.color)\n",
    "print(jonagold.flavor)\n",
    "print(jonagold.color.upper())\n",
    "\n",
    "golden=Apple()\n",
    "golden.color='blue'\n",
    "golden.flavor='spicy'\n",
    "print(golden.color)"
   ]
  },
  {
   "cell_type": "markdown",
   "id": "8b818ac5",
   "metadata": {},
   "source": [
    "## Example2\n",
    "    "
   ]
  },
  {
   "cell_type": "code",
   "execution_count": 15,
   "id": "c781943f",
   "metadata": {},
   "outputs": [
    {
     "name": "stdout",
     "output_type": "stream",
     "text": [
      "roses arered,\n",
      "voilets areyellow,\n",
      "suger is sweet, and so are you\n"
     ]
    }
   ],
   "source": [
    "class flower:\n",
    "    type = 'unknown'\n",
    "    \n",
    "rose=flower()\n",
    "rose.color='red'\n",
    "\n",
    "voilet=flower()\n",
    "voilet.color='yellow'\n",
    "\n",
    "this_pun_is_for_you='suger is sweet, and so are you'\n",
    "\n",
    "print('roses are{},'.format(rose.color))\n",
    "print('voilets are{},'.format(voilet.color))\n",
    "print(this_pun_is_for_you)\n"
   ]
  },
  {
   "cell_type": "markdown",
   "id": "124c8095",
   "metadata": {},
   "source": [
    "## Example3"
   ]
  },
  {
   "cell_type": "code",
   "execution_count": 16,
   "id": "039bc654",
   "metadata": {},
   "outputs": [
    {
     "name": "stdout",
     "output_type": "stream",
     "text": [
      "Meow Meow Meow.......\n"
     ]
    }
   ],
   "source": [
    "class Cat:\n",
    "    def speak(self):\n",
    "        print(\"Meow Meow Meow.......\")\n",
    "mycat=Cat()\n",
    "mycat.speak()"
   ]
  },
  {
   "cell_type": "code",
   "execution_count": 20,
   "id": "de675389",
   "metadata": {},
   "outputs": [
    {
     "name": "stdout",
     "output_type": "stream",
     "text": [
      "Meow! i'm Luna! Meow\n",
      "Meow! i'm Leo! Meow\n"
     ]
    }
   ],
   "source": [
    "class Cat:\n",
    "    name=''\n",
    "    def speak(self):\n",
    "        print(\"Meow! i'm {}! Meow\".format(self.name))\n",
    "myluna=Cat()\n",
    "myluna.name='Luna'\n",
    "myluna.speak()\n",
    "\n",
    "myleo=Cat()\n",
    "myleo.name='Leo'\n",
    "myleo.speak()"
   ]
  },
  {
   "cell_type": "markdown",
   "id": "6766353c",
   "metadata": {},
   "source": [
    "## Example4"
   ]
  },
  {
   "cell_type": "code",
   "execution_count": 2,
   "id": "bb02ad6f",
   "metadata": {},
   "outputs": [
    {
     "data": {
      "text/plain": [
       "0"
      ]
     },
     "execution_count": 2,
     "metadata": {},
     "output_type": "execute_result"
    }
   ],
   "source": [
    "class Cat:\n",
    "    year=0\n",
    "    def age(self):\n",
    "        return self.year* 12\n",
    "myloe=Cat()\n",
    "myloe.age()"
   ]
  },
  {
   "cell_type": "markdown",
   "id": "401acc96",
   "metadata": {},
   "source": [
    "## Example5"
   ]
  },
  {
   "cell_type": "code",
   "execution_count": 3,
   "id": "59ab3436",
   "metadata": {},
   "outputs": [
    {
     "data": {
      "text/plain": [
       "24"
      ]
     },
     "execution_count": 3,
     "metadata": {},
     "output_type": "execute_result"
    }
   ],
   "source": [
    "class Cat:\n",
    "    year=0\n",
    "    def age(self):\n",
    "        return self.year*12\n",
    "myluna=Cat()\n",
    "myluna.year=2\n",
    "myluna.age()"
   ]
  },
  {
   "cell_type": "markdown",
   "id": "125944b4",
   "metadata": {},
   "source": [
    "## Example6"
   ]
  },
  {
   "cell_type": "code",
   "execution_count": 5,
   "id": "27f62925",
   "metadata": {},
   "outputs": [
    {
     "name": "stdout",
     "output_type": "stream",
     "text": [
      "sweet\n"
     ]
    }
   ],
   "source": [
    "#using constructor\n",
    "class Apple:\n",
    "    def __init__(self,color,flavor):\n",
    "        self.color='red'\n",
    "        self.flavor='sweet'\n",
    "jonagold=Apple(\"red\",\"sweet\")\n",
    "print(jonagold.flavor)"
   ]
  },
  {
   "cell_type": "markdown",
   "id": "05ae3785",
   "metadata": {},
   "source": [
    "## Example7"
   ]
  },
  {
   "cell_type": "code",
   "execution_count": 7,
   "id": "09bbc93d",
   "metadata": {},
   "outputs": [
    {
     "name": "stdout",
     "output_type": "stream",
     "text": [
      "this apple is red and its flavor is sweet\n"
     ]
    }
   ],
   "source": [
    "#using str special method\n",
    "class Apple:\n",
    "    def __init__(self,color,flavor):\n",
    "        self.color='red'\n",
    "        self.flavor='sweet'\n",
    "    def __str__(self):\n",
    "        return \"this apple is {} and its flavor is {}\".format(self.color,self.flavor)\n",
    "jonagold=Apple(\"red\",\"sweet\")\n",
    "print(jonagold)"
   ]
  },
  {
   "cell_type": "markdown",
   "id": "a39213a7",
   "metadata": {},
   "source": [
    "## Example8"
   ]
  },
  {
   "cell_type": "code",
   "execution_count": 9,
   "id": "6c57a715",
   "metadata": {},
   "outputs": [
    {
     "name": "stdout",
     "output_type": "stream",
     "text": [
      "this apple is red and its flavor is sweet\n",
      "Help on class Apple in module __main__:\n",
      "\n",
      "class Apple(builtins.object)\n",
      " |  Apple(color, flavor)\n",
      " |  \n",
      " |  Methods defined here:\n",
      " |  \n",
      " |  __init__(self, color, flavor)\n",
      " |      Initialize self.  See help(type(self)) for accurate signature.\n",
      " |  \n",
      " |  __str__(self)\n",
      " |      Return str(self).\n",
      " |  \n",
      " |  ----------------------------------------------------------------------\n",
      " |  Data descriptors defined here:\n",
      " |  \n",
      " |  __dict__\n",
      " |      dictionary for instance variables (if defined)\n",
      " |  \n",
      " |  __weakref__\n",
      " |      list of weak references to the object (if defined)\n",
      "\n"
     ]
    }
   ],
   "source": [
    "class Apple:\n",
    "    def __init__(self,color,flavor):\n",
    "        self.color='red'\n",
    "        self.flavor='sweet'\n",
    "    def __str__(self):\n",
    "        return \"this apple is {} and its flavor is {}\".format(self.color,self.flavor)\n",
    "jonagold=Apple(\"red\",\"sweet\")\n",
    "print(jonagold)\n",
    "help(Apple)"
   ]
  },
  {
   "cell_type": "markdown",
   "id": "b7f34b59",
   "metadata": {},
   "source": [
    "## Example9"
   ]
  },
  {
   "cell_type": "code",
   "execution_count": 10,
   "id": "4f4893cf",
   "metadata": {},
   "outputs": [],
   "source": [
    "def to_seconds(hours,minutes,seconds):\n",
    "    \"\"\"return the amount of seconds in the given hours, minutes and seconds.\"\"\"\n",
    "    return hours*3600+minutes*60+seconds"
   ]
  },
  {
   "cell_type": "code",
   "execution_count": 11,
   "id": "e8666d54",
   "metadata": {},
   "outputs": [
    {
     "name": "stdout",
     "output_type": "stream",
     "text": [
      "Help on function to_seconds in module __main__:\n",
      "\n",
      "to_seconds(hours, minutes, seconds)\n",
      "    return the amount of seconds in the given hours, minutes and seconds.\n",
      "\n"
     ]
    }
   ],
   "source": [
    "help(to_seconds)"
   ]
  },
  {
   "cell_type": "markdown",
   "id": "1c26cfef",
   "metadata": {},
   "source": [
    "## Question1"
   ]
  },
  {
   "cell_type": "code",
   "execution_count": 12,
   "id": "0c752c49",
   "metadata": {},
   "outputs": [],
   "source": [
    "class Person:\n",
    "    def __init__(self,name):\n",
    "        self.name='eman'\n",
    "    def greeting(self):\n",
    "        self.name='amna'\n",
    "        print(\"hello! my name is{}\".format(name=self.name))"
   ]
  },
  {
   "cell_type": "code",
   "execution_count": 14,
   "id": "205746de",
   "metadata": {},
   "outputs": [
    {
     "name": "stdout",
     "output_type": "stream",
     "text": [
      "Help on class Person in module __main__:\n",
      "\n",
      "class Person(builtins.object)\n",
      " |  Person(name)\n",
      " |  \n",
      " |  Methods defined here:\n",
      " |  \n",
      " |  __init__(self, name)\n",
      " |      Initialize self.  See help(type(self)) for accurate signature.\n",
      " |  \n",
      " |  greeting(self)\n",
      " |  \n",
      " |  ----------------------------------------------------------------------\n",
      " |  Data descriptors defined here:\n",
      " |  \n",
      " |  __dict__\n",
      " |      dictionary for instance variables (if defined)\n",
      " |  \n",
      " |  __weakref__\n",
      " |      list of weak references to the object (if defined)\n",
      "\n"
     ]
    }
   ],
   "source": [
    "help(Person)"
   ]
  },
  {
   "cell_type": "markdown",
   "id": "f79b5986",
   "metadata": {},
   "source": [
    "## Question2"
   ]
  },
  {
   "cell_type": "code",
   "execution_count": 5,
   "id": "aa20dc4f",
   "metadata": {},
   "outputs": [
    {
     "name": "stdout",
     "output_type": "stream",
     "text": [
      "Help on class Person in module __main__:\n",
      "\n",
      "class Person(builtins.object)\n",
      " |  Person(name)\n",
      " |  \n",
      " |  Methods defined here:\n",
      " |  \n",
      " |  __init__(self, name)\n",
      " |      Initialize self.  See help(type(self)) for accurate signature.\n",
      " |  \n",
      " |  greeting(self)\n",
      " |      outputs a massage with the name of a person\n",
      " |  \n",
      " |  ----------------------------------------------------------------------\n",
      " |  Data descriptors defined here:\n",
      " |  \n",
      " |  __dict__\n",
      " |      dictionary for instance variables (if defined)\n",
      " |  \n",
      " |  __weakref__\n",
      " |      list of weak references to the object (if defined)\n",
      "\n"
     ]
    }
   ],
   "source": [
    "class Person:\n",
    "    def __init__(self,name):\n",
    "        self.name=name\n",
    "    def greeting(self):\n",
    "        \"\"\"outputs a massage with the name of a person\"\"\"\n",
    "        self.name='eman'\n",
    "        print(\"Hello!my name is {}\".format(self.name))\n",
    "help(Person)"
   ]
  },
  {
   "cell_type": "markdown",
   "id": "e39036a7",
   "metadata": {},
   "source": [
    "# Inheritance"
   ]
  },
  {
   "cell_type": "markdown",
   "id": "0884bc3c",
   "metadata": {},
   "source": [
    "## Example1"
   ]
  },
  {
   "cell_type": "code",
   "execution_count": 6,
   "id": "aa081a1f",
   "metadata": {},
   "outputs": [
    {
     "name": "stdout",
     "output_type": "stream",
     "text": [
      "sweet\n",
      "yellow\n"
     ]
    }
   ],
   "source": [
    "#we use inheriatance to reuse our code from one class to another\n",
    "class Fruit:\n",
    "    def __init__(self,color,flavor):\n",
    "        self.color=color\n",
    "        self.flavor=flavor\n",
    "class Apple(Fruit):\n",
    "    pass\n",
    "class Banana(Fruit):\n",
    "    pass\n",
    "granysmith=Apple('green','sweet')\n",
    "carne=Banana('yellow','sweet')\n",
    "print(granysmith.flavor)\n",
    "print(carne.color)"
   ]
  },
  {
   "cell_type": "markdown",
   "id": "981530db",
   "metadata": {},
   "source": [
    "## Example2"
   ]
  },
  {
   "cell_type": "code",
   "execution_count": 10,
   "id": "c79f1ed3",
   "metadata": {},
   "outputs": [
    {
     "name": "stdout",
     "output_type": "stream",
     "text": [
      "Meow my name is Leo! Meow\n"
     ]
    }
   ],
   "source": [
    "class Animal:\n",
    "    sound=\"\"\n",
    "    def __init__(self,name):\n",
    "        self.name=name\n",
    "    def speak(self):\n",
    "        print(\"{sound} my name is {name}! {sound}\".format(name=self.name,sound=self.sound))\n",
    "        \n",
    "class Cat(Animal):\n",
    "    sound=\"Meow\"\n",
    "myLeo=Cat('Leo')\n",
    "myLeo.speak()"
   ]
  },
  {
   "cell_type": "markdown",
   "id": "ef27ef9d",
   "metadata": {},
   "source": [
    "## Example3"
   ]
  },
  {
   "cell_type": "code",
   "execution_count": 11,
   "id": "f3cfafd4",
   "metadata": {},
   "outputs": [
    {
     "name": "stdout",
     "output_type": "stream",
     "text": [
      "Meow my name is Leo! Meow\n",
      "vao vao my name is Tomy! vao vao\n"
     ]
    }
   ],
   "source": [
    "class Animal:\n",
    "    sound=\"\"\n",
    "    def __init__(self,name):\n",
    "        self.name=name\n",
    "    def speak(self):\n",
    "        print(\"{sound} my name is {name}! {sound}\".format(name=self.name,sound=self.sound))\n",
    "        \n",
    "class Cat(Animal):\n",
    "    sound=\"Meow\"\n",
    "myLeo=Cat('Leo')\n",
    "myLeo.speak()\n",
    "\n",
    "class Dog(Animal):\n",
    "    sound=\"vao vao\"\n",
    "myTomy=Dog('Tomy')\n",
    "myTomy.speak()"
   ]
  },
  {
   "cell_type": "markdown",
   "id": "49b4b120",
   "metadata": {},
   "source": [
    "## Question3"
   ]
  },
  {
   "cell_type": "code",
   "execution_count": 14,
   "id": "fc6e26a7",
   "metadata": {},
   "outputs": [
    {
     "name": "stdout",
     "output_type": "stream",
     "text": [
      "this polo is made of Cotton\n"
     ]
    }
   ],
   "source": [
    "class Clothing:\n",
    "    meterial=''\n",
    "    def __init__(self,name):\n",
    "        self.name=name\n",
    "    def checkmeterial(self):\n",
    "        print(\"this {} is made of {}\".format(self.name,self.meterial))\n",
    "class Shirt(Clothing):\n",
    "    meterial='Cotton'\n",
    "    \n",
    "polo=Shirt(\"polo\")\n",
    "polo.checkmeterial()"
   ]
  },
  {
   "cell_type": "markdown",
   "id": "13890172",
   "metadata": {},
   "source": [
    "# Composition"
   ]
  },
  {
   "cell_type": "markdown",
   "id": "d638fda0",
   "metadata": {},
   "source": [
    "## Example1"
   ]
  },
  {
   "cell_type": "code",
   "execution_count": 15,
   "id": "58f34b3a",
   "metadata": {},
   "outputs": [],
   "source": [
    "class Repository:\n",
    "    def __init__(self):\n",
    "        self.packages={}\n",
    "    def add_package(self,package):\n",
    "        self.packages[package.name]=package\n",
    "    def total_size(self):\n",
    "        result=0\n",
    "        for package in self.packages.values():\n",
    "            result+=package.size\n",
    "            return result"
   ]
  },
  {
   "cell_type": "markdown",
   "id": "f13c5b74",
   "metadata": {},
   "source": [
    "# Modules"
   ]
  },
  {
   "cell_type": "markdown",
   "id": "2cf45050",
   "metadata": {},
   "source": [
    "## Example1"
   ]
  },
  {
   "cell_type": "code",
   "execution_count": 16,
   "id": "e1d95a0c",
   "metadata": {},
   "outputs": [
    {
     "data": {
      "text/plain": [
       "datetime.datetime"
      ]
     },
     "execution_count": 16,
     "metadata": {},
     "output_type": "execute_result"
    }
   ],
   "source": [
    "import datetime\n",
    "now=datetime.datetime.now()\n",
    "type(now)"
   ]
  },
  {
   "cell_type": "code",
   "execution_count": 17,
   "id": "26a4262d",
   "metadata": {},
   "outputs": [
    {
     "name": "stdout",
     "output_type": "stream",
     "text": [
      "2023-09-25 23:57:53.758987\n"
     ]
    }
   ],
   "source": [
    "print(now)"
   ]
  },
  {
   "cell_type": "code",
   "execution_count": 18,
   "id": "784ef037",
   "metadata": {},
   "outputs": [
    {
     "data": {
      "text/plain": [
       "2023"
      ]
     },
     "execution_count": 18,
     "metadata": {},
     "output_type": "execute_result"
    }
   ],
   "source": [
    "now.year"
   ]
  },
  {
   "cell_type": "code",
   "execution_count": 19,
   "id": "98859902",
   "metadata": {},
   "outputs": [
    {
     "name": "stdout",
     "output_type": "stream",
     "text": [
      "2023-10-23 23:57:53.758987\n"
     ]
    }
   ],
   "source": [
    "print(now+ datetime.timedelta(days=28))"
   ]
  },
  {
   "cell_type": "code",
   "execution_count": null,
   "id": "d9c56362",
   "metadata": {},
   "outputs": [],
   "source": []
  }
 ],
 "metadata": {
  "kernelspec": {
   "display_name": "Python 3 (ipykernel)",
   "language": "python",
   "name": "python3"
  },
  "language_info": {
   "codemirror_mode": {
    "name": "ipython",
    "version": 3
   },
   "file_extension": ".py",
   "mimetype": "text/x-python",
   "name": "python",
   "nbconvert_exporter": "python",
   "pygments_lexer": "ipython3",
   "version": "3.9.13"
  }
 },
 "nbformat": 4,
 "nbformat_minor": 5
}
